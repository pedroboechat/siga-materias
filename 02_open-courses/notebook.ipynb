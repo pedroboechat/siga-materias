{
 "cells": [
  {
   "cell_type": "markdown",
   "metadata": {},
   "source": [
    "## Imports"
   ]
  },
  {
   "cell_type": "code",
   "execution_count": 1,
   "metadata": {},
   "outputs": [],
   "source": [
    "# Standard libraries\n",
    "import csv\n",
    "\n",
    "# Other libraries\n",
    "from bs4 import BeautifulSoup as bs\n",
    "import pandas as pd\n",
    "import requests"
   ]
  },
  {
   "cell_type": "markdown",
   "metadata": {},
   "source": [
    "## Get all `curriculum` pages links"
   ]
  },
  {
   "cell_type": "code",
   "execution_count": 2,
   "metadata": {},
   "outputs": [],
   "source": [
    "BASE_URL = \"https://siga.ufrj.br/sira/gradeHoraria/\"\n",
    "with open(\"./COURSE.conf\", encoding=\"utf-8\") as conf:\n",
    "    COURSE_ID = conf.readlines()[0].strip()\n",
    "\n",
    "open_courses_soup = bs(\n",
    "    requests.get(\n",
    "        BASE_URL +\n",
    "        COURSE_ID.replace(\".html\", \"\") +\n",
    "        \".html\"\n",
    "    ).text,\n",
    "    \"html.parser\"\n",
    ")\n",
    "\n",
    "COLUMNS = [\n",
    "    \"periodo\",\n",
    "    \"codigo\",\n",
    "    \"turma\",\n",
    "    \"disciplina\",\n",
    "    \"dia\",\n",
    "    \"horario\",\n",
    "    \"docentes\"\n",
    "]"
   ]
  },
  {
   "cell_type": "markdown",
   "metadata": {},
   "source": [
    "## Extract `open courses` page data"
   ]
  },
  {
   "cell_type": "markdown",
   "metadata": {},
   "source": [
    "- ### Initialize DataFrame"
   ]
  },
  {
   "cell_type": "code",
   "execution_count": 3,
   "metadata": {},
   "outputs": [],
   "source": [
    "df = pd.DataFrame(\n",
    "    columns=[\n",
    "        \"Período\",\n",
    "        \"Código\",\n",
    "        \"Turma\",\n",
    "        \"Nome Turma\",\n",
    "        \"Dia\",\n",
    "        \"Horário\",\n",
    "        \"Professor\"\n",
    "    ]\n",
    ")"
   ]
  },
  {
   "cell_type": "markdown",
   "metadata": {},
   "source": [
    "- ### Load HTML tables as DataFrames"
   ]
  },
  {
   "cell_type": "code",
   "execution_count": 4,
   "metadata": {},
   "outputs": [],
   "source": [
    "tables_list = pd.read_html(str(open_courses_soup), header=0)"
   ]
  },
  {
   "cell_type": "markdown",
   "metadata": {},
   "source": [
    "- ### Create semester dictionary"
   ]
  },
  {
   "cell_type": "code",
   "execution_count": 5,
   "metadata": {},
   "outputs": [],
   "source": [
    "semester_dict = dict()\n",
    "\n",
    "for index in range(len(tables_list)):\n",
    "    if tables_list[index].columns[0].endswith(\"Período\"):\n",
    "        semester_dict[tables_list[index].columns[0]] = index\n",
    "        continue\n",
    "    if \"Lista de Disciplinas Complementares\" in tables_list[index].columns:\n",
    "        try:\n",
    "            if len(tables_list[index+3]):\n",
    "                semester_dict[\"Complementares\"] = index+2\n",
    "                continue\n",
    "        except KeyError:\n",
    "            pass"
   ]
  },
  {
   "cell_type": "markdown",
   "metadata": {},
   "source": [
    "- ### Loop extracting semester `table` data"
   ]
  },
  {
   "cell_type": "code",
   "execution_count": 6,
   "metadata": {},
   "outputs": [],
   "source": [
    "for semester_key, semester_value in semester_dict.items():\n",
    "    semester_df = tables_list[semester_value+1].fillna(method=\"ffill\")\n",
    "    semester_df[\"Período\"] = semester_key\n",
    "    df = pd.concat(\n",
    "        [\n",
    "            df,\n",
    "            semester_df\n",
    "        ],\n",
    "        join=\"inner\",\n",
    "        ignore_index=True\n",
    "    )"
   ]
  },
  {
   "cell_type": "markdown",
   "metadata": {},
   "source": [
    "- ### Data treatment"
   ]
  },
  {
   "cell_type": "code",
   "execution_count": 7,
   "metadata": {},
   "outputs": [],
   "source": [
    "# Rename columns\n",
    "df.columns = COLUMNS\n",
    "\n",
    "# Change `turma` column dtype\n",
    "df[\"turma\"] = df[\"turma\"].astype(int)"
   ]
  },
  {
   "cell_type": "markdown",
   "metadata": {},
   "source": [
    "## Export DataFrame"
   ]
  },
  {
   "cell_type": "code",
   "execution_count": 8,
   "metadata": {},
   "outputs": [],
   "source": [
    "df.to_excel(\n",
    "    f\"./open_courses.xlsx\",\n",
    "    index=False\n",
    ")\n",
    "\n",
    "df.to_csv(\n",
    "    f\"./open_courses.zip\",\n",
    "    sep=\";\",\n",
    "    index=False,\n",
    "    compression={\n",
    "        \"method\": \"zip\",\n",
    "        \"archive_name\": f\"open_courses.csv\"\n",
    "    },\n",
    "    quoting=csv.QUOTE_ALL\n",
    ")"
   ]
  }
 ],
 "metadata": {
  "kernelspec": {
   "display_name": "Python 3.9.7 ('base')",
   "language": "python",
   "name": "python3"
  },
  "language_info": {
   "codemirror_mode": {
    "name": "ipython",
    "version": 3
   },
   "file_extension": ".py",
   "mimetype": "text/x-python",
   "name": "python",
   "nbconvert_exporter": "python",
   "pygments_lexer": "ipython3",
   "version": "3.9.7"
  },
  "orig_nbformat": 4,
  "vscode": {
   "interpreter": {
    "hash": "aea149784bd30735ce6bf75b9a5314843328adf2083b944f20623ef50c2ca00d"
   }
  }
 },
 "nbformat": 4,
 "nbformat_minor": 2
}
