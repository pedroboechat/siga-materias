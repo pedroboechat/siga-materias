{
 "cells": [
  {
   "cell_type": "markdown",
   "metadata": {},
   "source": [
    "## Imports"
   ]
  },
  {
   "cell_type": "code",
   "execution_count": null,
   "metadata": {},
   "outputs": [],
   "source": [
    "# Standard libraries\n",
    "import csv\n",
    "import re\n",
    "\n",
    "# Other libraries\n",
    "from bs4 import BeautifulSoup as bs\n",
    "import numpy as np\n",
    "import pandas as pd\n",
    "import requests"
   ]
  },
  {
   "cell_type": "markdown",
   "metadata": {},
   "source": [
    "## Get all `curriculum` pages links"
   ]
  },
  {
   "cell_type": "code",
   "execution_count": null,
   "metadata": {},
   "outputs": [],
   "source": [
    "BASE_URL = \"https://siga.ufrj.br/sira/repositorio-curriculo/distribuicoes/\"\n",
    "with open(\"./CURRICULUM.conf\", encoding=\"utf-8\") as conf:\n",
    "    CURRICULUM_ID = conf.readlines()[0].strip()\n",
    "\n",
    "curriculum_soup = bs(\n",
    "    requests.get(\n",
    "        BASE_URL +\n",
    "        CURRICULUM_ID.replace(\".html\", \"\") +\n",
    "        \".html\"\n",
    "    ).text,\n",
    "    \"html.parser\"\n",
    ")\n",
    "\n",
    "COLUMNS = [\n",
    "    \"curso\",\n",
    "    \"periodo\",\n",
    "    \"codigo\",\n",
    "    \"disciplina\",\n",
    "    \"ementa\",\n",
    "    \"creditos\",\n",
    "    \"ch_teorica\",\n",
    "    \"ch_pratica\",\n",
    "    \"ch_extensao\",\n",
    "    \"requisitos\"\n",
    "]"
   ]
  },
  {
   "cell_type": "markdown",
   "metadata": {},
   "source": [
    "## Extract `curriculum` page data"
   ]
  },
  {
   "cell_type": "markdown",
   "metadata": {},
   "source": [
    "- ### Definition of helper functions"
   ]
  },
  {
   "cell_type": "code",
   "execution_count": null,
   "metadata": {},
   "outputs": [],
   "source": [
    "def table_parser(table: bs) -> pd.DataFrame:\n",
    "    \"\"\"Parses a SIGA table and returns its data as a DataFrame\n",
    "\n",
    "    Args:\n",
    "        table (BeautifulSoup): Soup of the table to be parsed\n",
    "\n",
    "    Returns:\n",
    "        DataFrame: Parsed table as DataFrame\n",
    "    \"\"\"\n",
    "    try:\n",
    "        semester = table.find(\"tr\", class_=\"tableTitle\").find(\"b\").stripped_strings.__next__()\n",
    "    except AttributeError:\n",
    "        return pd.DataFrame(\n",
    "            columns=COLUMNS\n",
    "        )\n",
    "    if semester.startswith(\"Curso\"):\n",
    "        return pd.DataFrame(\n",
    "            [(\n",
    "                semester,\n",
    "                np.NaN,\n",
    "                np.NaN,\n",
    "                np.NaN,\n",
    "                np.NaN,\n",
    "                np.NaN,\n",
    "                np.NaN,\n",
    "                np.NaN,\n",
    "                np.NaN,\n",
    "                np.NaN\n",
    "            )],\n",
    "            columns=COLUMNS\n",
    "        )\n",
    "    elif (\n",
    "        \"Período\" in semester or\n",
    "        \"Escolha Condicionada\" in semester or\n",
    "        \"Escolha Restrita\" in semester\n",
    "    ):\n",
    "        courses_list = []\n",
    "        if \"Escolha Condicionada\" in semester:\n",
    "            semester = \"Escolha Condicionada\"\n",
    "        if \"Escolha Restrita\" in semester:\n",
    "            semester = \"Grupo Humanas\"\n",
    "            rows = table.find(\"b\", string=\"Grupo Humanas\").find_all_next(\"tr\")\n",
    "        else:\n",
    "            rows = table.find_all(\"tr\")[2:]\n",
    "        for row in rows:\n",
    "            cols = row.find_all(\"td\")\n",
    "            try:\n",
    "                code = cols[0].stripped_strings.__next__()\n",
    "                if \"Atividades\" in code or \"Total de\" in code:\n",
    "                    break\n",
    "                subject_href = cols[0].find(\"a\").get(\"href\")\n",
    "            except (AttributeError, StopIteration):\n",
    "                break\n",
    "            subject = bs(\n",
    "                    requests.get(\n",
    "                        BASE_URL + subject_href[\n",
    "                            subject_href.find(\"(\")+2:subject_href.find(\")\")-1\n",
    "                        ]\n",
    "                    ).text,\n",
    "                    \"html.parser\"\n",
    "                ).find(\n",
    "                    \"table\",\n",
    "                    class_=\"cellspacingTable\"\n",
    "                ).find_all(\n",
    "                    \"tr\"\n",
    "                )[1].find(\n",
    "                    \"td\"\n",
    "                ).stripped_strings.__next__()\n",
    "            course = cols[1].stripped_strings.__next__()\n",
    "            creds = cols[2].stripped_strings.__next__()\n",
    "            teorical_hours = cols[3].stripped_strings.__next__()\n",
    "            practical_hours = cols[4].stripped_strings.__next__()\n",
    "            extension_hours = cols[5].stripped_strings.__next__()\n",
    "            requirements = re.sub(\n",
    "                    r\"^.*=.*$\",\n",
    "                    \"\",\n",
    "                    cols[6].get_text().strip()\n",
    "                ).replace(\n",
    "                    \"\\n\",\n",
    "                    \",\"\n",
    "                ).split(\",\")\n",
    "            courses_list.append(\n",
    "                (\n",
    "                    np.NaN,\n",
    "                    semester,\n",
    "                    code,\n",
    "                    course,\n",
    "                    subject,\n",
    "                    creds,\n",
    "                    teorical_hours,\n",
    "                    practical_hours,\n",
    "                    extension_hours,\n",
    "                    requirements\n",
    "                )\n",
    "            )\n",
    "        return pd.DataFrame(\n",
    "            courses_list,\n",
    "            columns=COLUMNS\n",
    "        )\n",
    "    else:\n",
    "        return pd.DataFrame(\n",
    "            columns=COLUMNS\n",
    "        )"
   ]
  },
  {
   "cell_type": "markdown",
   "metadata": {},
   "source": [
    "- ### Initialize DataFrame"
   ]
  },
  {
   "cell_type": "code",
   "execution_count": null,
   "metadata": {},
   "outputs": [],
   "source": [
    "df = pd.DataFrame()"
   ]
  },
  {
   "cell_type": "markdown",
   "metadata": {},
   "source": [
    "- ### Loop through the `soup` extracting semester `table` data"
   ]
  },
  {
   "cell_type": "code",
   "execution_count": null,
   "metadata": {},
   "outputs": [],
   "source": [
    "for table in curriculum_soup.find_all(\"table\", class_=\"cellspacingTable\"):\n",
    "    df = pd.concat([\n",
    "        df,\n",
    "        table_parser(table)\n",
    "    ])"
   ]
  },
  {
   "cell_type": "markdown",
   "metadata": {},
   "source": [
    "- ### Data treatment"
   ]
  },
  {
   "cell_type": "code",
   "execution_count": null,
   "metadata": {},
   "outputs": [],
   "source": [
    "# Fill `curso` column\n",
    "df[\"curso\"] = df[\"curso\"].fillna(method=\"ffill\")\n",
    "\n",
    "# Drop first row (that only holds `curso` data)\n",
    "df = df.drop(0)\n",
    "\n",
    "# Reset DataFrame index\n",
    "df = df.reset_index(drop=True)"
   ]
  },
  {
   "cell_type": "markdown",
   "metadata": {},
   "source": [
    "## Export DataFrame"
   ]
  },
  {
   "cell_type": "code",
   "execution_count": null,
   "metadata": {},
   "outputs": [],
   "source": [
    "grad = df[\"curso\"].iloc[0].lower().replace(\"curso de graduação em \", \"\").replace(\" \", \"_\")\n",
    "\n",
    "df.to_excel(\n",
    "    f\"./curriculum_{grad}.xlsx\",\n",
    "    index=False\n",
    ")\n",
    "\n",
    "df.to_csv(\n",
    "    f\"./curriculum_{grad}.zip\",\n",
    "    sep=\";\",\n",
    "    index=False,\n",
    "    compression={\n",
    "        \"method\": \"zip\",\n",
    "        \"archive_name\": f\"curriculum_{grad}.csv\"\n",
    "    },\n",
    "    quoting=csv.QUOTE_ALL\n",
    ")"
   ]
  }
 ],
 "metadata": {
  "kernelspec": {
   "display_name": "Python 3.9.7 ('base')",
   "language": "python",
   "name": "python3"
  },
  "language_info": {
   "codemirror_mode": {
    "name": "ipython",
    "version": 3
   },
   "file_extension": ".py",
   "mimetype": "text/x-python",
   "name": "python",
   "nbconvert_exporter": "python",
   "pygments_lexer": "ipython3",
   "version": "3.9.7"
  },
  "orig_nbformat": 4,
  "vscode": {
   "interpreter": {
    "hash": "aea149784bd30735ce6bf75b9a5314843328adf2083b944f20623ef50c2ca00d"
   }
  }
 },
 "nbformat": 4,
 "nbformat_minor": 2
}
