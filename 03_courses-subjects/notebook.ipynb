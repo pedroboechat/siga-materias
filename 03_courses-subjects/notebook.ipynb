{
 "cells": [
  {
   "cell_type": "markdown",
   "metadata": {},
   "source": [
    "## Imports"
   ]
  },
  {
   "cell_type": "code",
   "execution_count": null,
   "metadata": {},
   "outputs": [],
   "source": [
    "# Standard libraries\n",
    "import csv\n",
    "\n",
    "# Other libraries\n",
    "from bs4 import BeautifulSoup as bs\n",
    "import pandas as pd\n",
    "import requests\n",
    "from tqdm import tqdm"
   ]
  },
  {
   "cell_type": "markdown",
   "metadata": {},
   "source": [
    "## Get all `curriculum` pages links"
   ]
  },
  {
   "cell_type": "code",
   "execution_count": null,
   "metadata": {},
   "outputs": [],
   "source": [
    "BASE_URL = \"https://siga.ufrj.br/sira/repositorio-curriculo/disciplinas/\"\n",
    "\n",
    "all_subjects_soup = bs(\n",
    "    requests.get(\n",
    "        BASE_URL\n",
    "    ).text,\n",
    "    \"html.parser\"\n",
    ")\n",
    "\n",
    "COLUMNS = [\n",
    "    \"codigo\",\n",
    "    \"disciplina\",\n",
    "    \"ementa\"\n",
    "]"
   ]
  },
  {
   "cell_type": "markdown",
   "metadata": {},
   "source": [
    "## Extract `courses subjects` page data"
   ]
  },
  {
   "cell_type": "markdown",
   "metadata": {},
   "source": [
    "- ### Definition of helper functions"
   ]
  },
  {
   "cell_type": "code",
   "execution_count": null,
   "metadata": {},
   "outputs": [],
   "source": [
    "def subject_parser(soup: bs) -> pd.DataFrame:\n",
    "    \"\"\"Parses a SIGA course subject page and returns its data as a DataFrame\n",
    "\n",
    "    Args:\n",
    "        soup (bs): Soup of the SIGA course subject page to be parsed\n",
    "\n",
    "    Returns:\n",
    "        DataFrame: Parsed table as DataFrame\n",
    "    \"\"\"\n",
    "    all_tds = soup.find(\"table\", class_=\"cellspacingTable\").findAll(\"td\")\n",
    "    try:\n",
    "        code_and_course = all_tds[0].get_text()\n",
    "        code_course_sep_index = code_and_course.find(\"-\")\n",
    "        code = code_and_course[:code_course_sep_index]\n",
    "        course = code_and_course[code_course_sep_index+1:]\n",
    "        subject = all_tds[1].get_text()\n",
    "    except:\n",
    "        print(all_tds)\n",
    "        raise\n",
    "    return pd.DataFrame(\n",
    "        [(\n",
    "            code.strip(),\n",
    "            course.strip(),\n",
    "            subject.strip()\n",
    "        )],\n",
    "        columns=COLUMNS\n",
    "    )"
   ]
  },
  {
   "cell_type": "markdown",
   "metadata": {},
   "source": [
    "- ### Initialize DataFrame"
   ]
  },
  {
   "cell_type": "code",
   "execution_count": null,
   "metadata": {},
   "outputs": [],
   "source": [
    "df = pd.DataFrame()"
   ]
  },
  {
   "cell_type": "markdown",
   "metadata": {},
   "source": [
    "- ### Get all courses subjects pages soups"
   ]
  },
  {
   "cell_type": "code",
   "execution_count": null,
   "metadata": {},
   "outputs": [],
   "source": [
    "subject_hrefs = list(map(\n",
    "    lambda x: BASE_URL+x,\n",
    "    pd.read_html(\n",
    "        str(all_subjects_soup)\n",
    "    )[0][\"Name\"].dropna().iloc[1:].to_list()\n",
    "))\n",
    "\n",
    "subject_reqs = list()\n",
    "\n",
    "for subject_href in subject_hrefs:\n",
    "    subject_reqs.append(\n",
    "        requests.get(subject_href).text\n",
    "    )\n",
    "\n",
    "subject_soups = list(map(lambda x: bs(x), subject_reqs))"
   ]
  },
  {
   "cell_type": "markdown",
   "metadata": {},
   "source": [
    "- ### Loop extracting course subject data"
   ]
  },
  {
   "cell_type": "code",
   "execution_count": null,
   "metadata": {},
   "outputs": [],
   "source": [
    "for subject_soup in tqdm(subject_soups):\n",
    "    df = pd.concat([\n",
    "        df,\n",
    "        subject_parser(subject_soup)\n",
    "    ])"
   ]
  },
  {
   "cell_type": "markdown",
   "metadata": {},
   "source": [
    "## Export DataFrame"
   ]
  },
  {
   "cell_type": "code",
   "execution_count": null,
   "metadata": {},
   "outputs": [],
   "source": [
    "df.to_excel(\n",
    "    \"./courses_subjects.xlsx\",\n",
    "    index=False\n",
    ")\n",
    "\n",
    "df.to_csv(\n",
    "    \"./courses_subjects.zip\",\n",
    "    sep=\";\",\n",
    "    index=False,\n",
    "    compression={\n",
    "        \"method\": \"zip\",\n",
    "        \"archive_name\": \"courses_subjects.csv\"\n",
    "    },\n",
    "    quoting=csv.QUOTE_ALL\n",
    ")"
   ]
  }
 ],
 "metadata": {
  "kernelspec": {
   "display_name": "Python 3.9.7 ('base')",
   "language": "python",
   "name": "python3"
  },
  "language_info": {
   "codemirror_mode": {
    "name": "ipython",
    "version": 3
   },
   "file_extension": ".py",
   "mimetype": "text/x-python",
   "name": "python",
   "nbconvert_exporter": "python",
   "pygments_lexer": "ipython3",
   "version": "3.9.7"
  },
  "orig_nbformat": 4,
  "vscode": {
   "interpreter": {
    "hash": "aea149784bd30735ce6bf75b9a5314843328adf2083b944f20623ef50c2ca00d"
   }
  }
 },
 "nbformat": 4,
 "nbformat_minor": 2
}
